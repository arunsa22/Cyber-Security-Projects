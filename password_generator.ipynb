{
  "metadata": {
    "kernelspec": {
      "name": "python",
      "display_name": "Python (Pyodide)",
      "language": "python"
    },
    "language_info": {
      "codemirror_mode": {
        "name": "python",
        "version": 3
      },
      "file_extension": ".py",
      "mimetype": "text/x-python",
      "name": "python",
      "nbconvert_exporter": "python",
      "pygments_lexer": "ipython3",
      "version": "3.8"
    }
  },
  "nbformat_minor": 5,
  "nbformat": 4,
  "cells": [
    {
      "id": "cc69ac0b-530e-4bd9-bcd2-5a69e9b25fce",
      "cell_type": "code",
      "source": "import random\nimport string\n\ndef generate_password(length: int = 10):\n    alphabet = string.ascii_letters + string.digits + string.punctuation\n    password = \"\".join(random.choice(alphabet) for i in range(length))\n    return password\n\npassword = generate_password()\nprint(f\"generate password: {password}\")",
      "metadata": {
        "trusted": true
      },
      "outputs": [
        {
          "name": "stdout",
          "output_type": "stream",
          "text": "generate password: kMgrV`o7\"l\n"
        }
      ],
      "execution_count": 2
    }
  ]
}