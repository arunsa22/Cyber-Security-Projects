{
 "cells": [
  {
   "cell_type": "code",
   "execution_count": 1,
   "id": "d4b40496",
   "metadata": {},
   "outputs": [
    {
     "name": "stdout",
     "output_type": "stream",
     "text": [
      "Enter the plain text to encrypt: Hello World!\n",
      "Enter the shift value: 3\n",
      "Encrypted Text: Khoor Zruog!\n"
     ]
    }
   ],
   "source": [
    "def encrypt(plain_text, shift):\n",
    "    uppercase = \"ABCDEFGHIJKLMNOPQRSTUVWXYZ\"\n",
    "    lowercase = \"abcdefghijklmnopqrstuvwxyz\"\n",
    "    encrypted_text = \"\"\n",
    "    \n",
    "    shift = shift % 26\n",
    "  \n",
    "    for char in plain_text:\n",
    "        if char in uppercase:\n",
    "            index = uppercase.index(char)\n",
    "            new_index = (index + shift) % 26\n",
    "            encrypted_text += uppercase[new_index]\n",
    "        elif char in lowercase:\n",
    "            index = lowercase.index(char)\n",
    "            new_index = (index + shift) % 26\n",
    "            encrypted_text += lowercase[new_index]\n",
    "        else:\n",
    "            encrypted_text += char\n",
    "\n",
    "    return encrypted_text\n",
    "\n",
    "plain_text = input(\"Enter the plain text to encrypt: \")\n",
    "shift = int(input(\"Enter the shift value: \"))\n",
    "\n",
    "print(\"Encrypted Text:\", encrypt(plain_text, shift))\n"
   ]
  }
 ],
 "metadata": {
  "kernelspec": {
   "display_name": "Python 3 (ipykernel)",
   "language": "python",
   "name": "python3"
  },
  "language_info": {
   "codemirror_mode": {
    "name": "ipython",
    "version": 3
   },
   "file_extension": ".py",
   "mimetype": "text/x-python",
   "name": "python",
   "nbconvert_exporter": "python",
   "pygments_lexer": "ipython3",
   "version": "3.9.13"
  }
 },
 "nbformat": 4,
 "nbformat_minor": 5
}
