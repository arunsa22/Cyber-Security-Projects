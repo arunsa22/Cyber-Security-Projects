{
 "cells": [
  {
   "cell_type": "code",
   "execution_count": null,
   "id": "30cf199a",
   "metadata": {},
   "outputs": [
    {
     "name": "stdout",
     "output_type": "stream",
     "text": [
      "Enter 1 to create an account, 2 to login, or 0 to exit: 1\n",
      "Enter your desired username: arun\n",
      "Enter your desired password: ········\n",
      "Account Created Successfully!\n",
      "Enter 1 to create an account, 2 to login, or 0 to exit: 2\n",
      "Enter your username: arun\n",
      "Enter your password: ········\n",
      "Login successful!\n",
      "Enter 1 to create an account, 2 to login, or 0 to exit: 2\n",
      "Enter your username: ARUN\n",
      "Enter your password: ········\n",
      "Invalid username or password\n"
     ]
    }
   ],
   "source": [
    "import hashlib\n",
    "import getpass\n",
    "\n",
    "password_manager = {}\n",
    "\n",
    "def create_account():\n",
    "    username = input(\"Enter your desired username: \")\n",
    "    password = getpass.getpass(\"Enter your desired password: \")\n",
    "    hashed_password = hashlib.sha256(password.encode()).hexdigest()\n",
    "    password_manager[username] = hashed_password\n",
    "    print(\"Account Created Successfully!\")\n",
    "\n",
    "def login():\n",
    "    username = input(\"Enter your username: \")\n",
    "    password = getpass.getpass(\"Enter your password: \")\n",
    "    hashed_password = hashlib.sha256(password.encode()).hexdigest()\n",
    "    if username in password_manager.keys() and password_manager[username] == hashed_password:\n",
    "        print(\"Login successful!\")\n",
    "    else:\n",
    "        print(\"Invalid username or password\")\n",
    "\n",
    "def main():\n",
    "    while True:\n",
    "        choice = input(\"Enter 1 to create an account, 2 to login, or 0 to exit: \")\n",
    "        if choice == \"1\":\n",
    "            create_account()\n",
    "        elif choice == \"2\":\n",
    "            login()\n",
    "        elif choice == \"0\":\n",
    "            break\n",
    "        else:\n",
    "            print(\"Invalid choice\")\n",
    "\n",
    "if __name__ == \"__main__\":\n",
    "    main()\n"
   ]
  },
  {
   "cell_type": "code",
   "execution_count": null,
   "id": "21e6a46b",
   "metadata": {},
   "outputs": [],
   "source": []
  }
 ],
 "metadata": {
  "kernelspec": {
   "display_name": "Python 3 (ipykernel)",
   "language": "python",
   "name": "python3"
  },
  "language_info": {
   "codemirror_mode": {
    "name": "ipython",
    "version": 3
   },
   "file_extension": ".py",
   "mimetype": "text/x-python",
   "name": "python",
   "nbconvert_exporter": "python",
   "pygments_lexer": "ipython3",
   "version": "3.9.13"
  }
 },
 "nbformat": 4,
 "nbformat_minor": 5
}
